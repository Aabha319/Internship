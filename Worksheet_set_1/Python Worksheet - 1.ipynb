{
 "cells": [
  {
   "cell_type": "code",
   "execution_count": 1,
   "id": "4a6cef8b",
   "metadata": {},
   "outputs": [
    {
     "name": "stdout",
     "output_type": "stream",
     "text": [
      "enter a number to find factorial5\n",
      "factorial of  5  is  120\n"
     ]
    }
   ],
   "source": [
    "#11. finding factorial of a given number\n",
    "number = int(input(\"enter a number to find factorial\"))\n",
    "factorial = 1\n",
    "if number<0:\n",
    "    print(\"cannot find factorial for negative numbers\")\n",
    "elif number==0:\n",
    "    print(\"factorialof 0 is 1\")\n",
    "else:\n",
    "    for i in range(1,number+1):\n",
    "        factorial=factorial*i\n",
    "    print(\"factorial of \",number,\" is \",factorial)"
   ]
  },
  {
   "cell_type": "code",
   "execution_count": 4,
   "id": "13fd7b21",
   "metadata": {},
   "outputs": [
    {
     "name": "stdout",
     "output_type": "stream",
     "text": [
      "Enter any number : 20\n",
      "20 is a composite number\n"
     ]
    }
   ],
   "source": [
    "#12.finding whether a given number is a prime or composite number\n",
    "number = int(input(\"Enter any number : \"))\n",
    "if number > 1:\n",
    "    for i in range(2, number):\n",
    "        if (number % i) == 0:\n",
    "            print(number, \"is a composite number\")\n",
    "            break\n",
    "    else:\n",
    "        print(number, \"is a prime number\")\n",
    "elif number == 0 or 1:\n",
    "    print(number, \"is a neither prime nor composite number\")\n",
    "else:\n",
    "    pass"
   ]
  },
  {
   "cell_type": "code",
   "execution_count": 7,
   "id": "a2f30810",
   "metadata": {},
   "outputs": [
    {
     "name": "stdout",
     "output_type": "stream",
     "text": [
      "enter a stringdad\n",
      "the given string is a palindrome\n"
     ]
    }
   ],
   "source": [
    "#13.to check whether given string is palindrome or not\n",
    "s=input(\"enter a string\")\n",
    "if (s==s[::-1]):\n",
    "    print(\"the given string is a palindrome\")\n",
    "else:\n",
    "    print(\"the given string is not a palindrome\")"
   ]
  },
  {
   "cell_type": "code",
   "execution_count": 8,
   "id": "7de4c41b",
   "metadata": {},
   "outputs": [
    {
     "name": "stdout",
     "output_type": "stream",
     "text": [
      "Hypo = 5.0\n",
      "b = 4.0\n",
      "a = 3.0\n"
     ]
    }
   ],
   "source": [
    "#14.to find out third side of right angke traingle if two sides are given\n",
    "def side(a,b,hypo):\n",
    "        if a == str(\"x\"):\n",
    "            return (\"a = \" + str(((hypo**2) - (b**2))**0.5))\n",
    "        elif b == str(\"x\"):\n",
    "            return (\"b = \" + str(((hypo**2) - (a**2))**0.5))\n",
    "        elif hypo == str(\"x\"):\n",
    "            return (\"Hypo = \" + str(((a**2) + (b**2))**0.5))\n",
    "        else:\n",
    "            return \"Pass\"\n",
    "    \n",
    "print(side(3,4,'x'))\n",
    "print(side(3,'x',5))\n",
    "print(side('x',4,5))"
   ]
  },
  {
   "cell_type": "code",
   "execution_count": 3,
   "id": "37d1a92f",
   "metadata": {},
   "outputs": [
    {
     "name": "stdout",
     "output_type": "stream",
     "text": [
      "enter a string aabha\n",
      "{'a': 3, 'b': 1, 'h': 1}\n"
     ]
    }
   ],
   "source": [
    "#15. to print the frequency of each of the characters present in a given string\n",
    "def frequency(str1):\n",
    "    dict = {}\n",
    "    for n in str1:\n",
    "        keys = dict.keys()\n",
    "        if n in keys:\n",
    "            dict[n] += 1\n",
    "        else:\n",
    "            dict[n] = 1\n",
    "    return dict\n",
    "str1=input(\"enter a string \")\n",
    "print(frequency(str1))"
   ]
  },
  {
   "cell_type": "code",
   "execution_count": null,
   "id": "449ef560",
   "metadata": {},
   "outputs": [],
   "source": []
  }
 ],
 "metadata": {
  "kernelspec": {
   "display_name": "Python 3 (ipykernel)",
   "language": "python",
   "name": "python3"
  },
  "language_info": {
   "codemirror_mode": {
    "name": "ipython",
    "version": 3
   },
   "file_extension": ".py",
   "mimetype": "text/x-python",
   "name": "python",
   "nbconvert_exporter": "python",
   "pygments_lexer": "ipython3",
   "version": "3.9.7"
  }
 },
 "nbformat": 4,
 "nbformat_minor": 5
}
